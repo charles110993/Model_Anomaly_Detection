{
  "cells": [
    {
      "cell_type": "code",
      "execution_count": 65,
      "metadata": {
        "id": "ULqHQThSH4A2"
      },
      "outputs": [],
      "source": [
        "import pandas as pd\n",
        "import numpy as np\n",
        "from sklearn.model_selection import train_test_split, GridSearchCV\n",
        "from sklearn.metrics import average_precision_score, make_scorer\n",
        "from sklearn.preprocessing import StandardScaler\n",
        "from sklearn.ensemble import IsolationForest\n",
        "import matplotlib.pyplot as plt"
      ]
    },
    {
      "cell_type": "code",
      "execution_count": 66,
      "metadata": {
        "id": "3mrqqYy6H7mf"
      },
      "outputs": [],
      "source": [
        "# Step 2: Load the Dataset\n",
        "data = pd.read_excel('rwc _dataset.xlsx')"
      ]
    },
    {
      "cell_type": "code",
      "execution_count": null,
      "metadata": {
        "id": "KjPLwsUsrySc"
      },
      "outputs": [],
      "source": [
        "print(data)"
      ]
    },
    {
      "cell_type": "code",
      "execution_count": 68,
      "metadata": {
        "id": "kZ7UDR66ICwX"
      },
      "outputs": [],
      "source": [
        "# Step 3: Data Preprocessing\n",
        "data = data.drop(['Seam number', 'start time (power source time)', 'Jobs'], axis=1)\n",
        "data = data.dropna()\n",
        "data = data.apply(pd.to_numeric, errors='coerce')"
      ]
    },
    {
      "cell_type": "code",
      "execution_count": null,
      "metadata": {
        "id": "AYy9rMRvsGGq"
      },
      "outputs": [],
      "source": [
        "print(data)"
      ]
    },
    {
      "cell_type": "code",
      "execution_count": 69,
      "metadata": {
        "id": "Pvf54nFFIH9Z"
      },
      "outputs": [],
      "source": [
        "# Step 4: Feature Selection\n",
        "# Perform feature selection based on correlation\n",
        "corr_matrix = data.corr()\n",
        "selected_features = corr_matrix['Energy(E) [KJ]'].abs().sort_values(ascending=False)[:3].index\n",
        "data_selected = data[selected_features]"
      ]
    },
    {
      "cell_type": "code",
      "execution_count": 70,
      "metadata": {
        "id": "Hx2qJpgMIR5I"
      },
      "outputs": [],
      "source": [
        "# Step 5: Feature Scaling\n",
        "scaler = StandardScaler()\n",
        "X_scaled = scaler.fit_transform(data_selected)"
      ]
    },
    {
      "cell_type": "code",
      "execution_count": 71,
      "metadata": {
        "id": "wOkYyDkOItXW"
      },
      "outputs": [],
      "source": [
        "# Step 6: Train-Test Split\n",
        "X_train, X_test, y_train, y_test = train_test_split(X_scaled, data['Energy(E) [KJ]'], test_size=0.2, random_state=42)"
      ]
    },
    {
      "cell_type": "code",
      "execution_count": 80,
      "metadata": {
        "id": "KAUDxKEX2Xo9"
      },
      "outputs": [],
      "source": [
        "# Step 7: Hyperparameter Tuning\n",
        "threshold = 0.5  # Define your threshold value\n",
        "y_train_binary = (y_train > threshold).astype(int)\n",
        "param_grid = {'contamination': np.linspace(0.01, 0.1, 10)}\n",
        "model = IsolationForest(random_state=42)\n",
        "scoring = make_scorer(average_precision_score, greater_is_better=True)\n",
        "grid_search = GridSearchCV(model, param_grid, scoring=scoring, cv=5)\n",
        "grid_search.fit(X_train, y_train_binary)\n",
        "best_contamination = grid_search.best_params_['contamination']\n"
      ]
    },
    {
      "cell_type": "code",
      "execution_count": 74,
      "metadata": {
        "colab": {
          "base_uri": "https://localhost:8080/",
          "height": 75
        },
        "id": "aFvBs6mMJDma",
        "outputId": "716f63f5-541e-40cd-95cc-de033cfdc76f"
      },
      "outputs": [
        {
          "output_type": "execute_result",
          "data": {
            "text/plain": [
              "IsolationForest(contamination=0.01, random_state=42)"
            ],
            "text/html": [
              "<style>#sk-container-id-6 {color: black;background-color: white;}#sk-container-id-6 pre{padding: 0;}#sk-container-id-6 div.sk-toggleable {background-color: white;}#sk-container-id-6 label.sk-toggleable__label {cursor: pointer;display: block;width: 100%;margin-bottom: 0;padding: 0.3em;box-sizing: border-box;text-align: center;}#sk-container-id-6 label.sk-toggleable__label-arrow:before {content: \"▸\";float: left;margin-right: 0.25em;color: #696969;}#sk-container-id-6 label.sk-toggleable__label-arrow:hover:before {color: black;}#sk-container-id-6 div.sk-estimator:hover label.sk-toggleable__label-arrow:before {color: black;}#sk-container-id-6 div.sk-toggleable__content {max-height: 0;max-width: 0;overflow: hidden;text-align: left;background-color: #f0f8ff;}#sk-container-id-6 div.sk-toggleable__content pre {margin: 0.2em;color: black;border-radius: 0.25em;background-color: #f0f8ff;}#sk-container-id-6 input.sk-toggleable__control:checked~div.sk-toggleable__content {max-height: 200px;max-width: 100%;overflow: auto;}#sk-container-id-6 input.sk-toggleable__control:checked~label.sk-toggleable__label-arrow:before {content: \"▾\";}#sk-container-id-6 div.sk-estimator input.sk-toggleable__control:checked~label.sk-toggleable__label {background-color: #d4ebff;}#sk-container-id-6 div.sk-label input.sk-toggleable__control:checked~label.sk-toggleable__label {background-color: #d4ebff;}#sk-container-id-6 input.sk-hidden--visually {border: 0;clip: rect(1px 1px 1px 1px);clip: rect(1px, 1px, 1px, 1px);height: 1px;margin: -1px;overflow: hidden;padding: 0;position: absolute;width: 1px;}#sk-container-id-6 div.sk-estimator {font-family: monospace;background-color: #f0f8ff;border: 1px dotted black;border-radius: 0.25em;box-sizing: border-box;margin-bottom: 0.5em;}#sk-container-id-6 div.sk-estimator:hover {background-color: #d4ebff;}#sk-container-id-6 div.sk-parallel-item::after {content: \"\";width: 100%;border-bottom: 1px solid gray;flex-grow: 1;}#sk-container-id-6 div.sk-label:hover label.sk-toggleable__label {background-color: #d4ebff;}#sk-container-id-6 div.sk-serial::before {content: \"\";position: absolute;border-left: 1px solid gray;box-sizing: border-box;top: 0;bottom: 0;left: 50%;z-index: 0;}#sk-container-id-6 div.sk-serial {display: flex;flex-direction: column;align-items: center;background-color: white;padding-right: 0.2em;padding-left: 0.2em;position: relative;}#sk-container-id-6 div.sk-item {position: relative;z-index: 1;}#sk-container-id-6 div.sk-parallel {display: flex;align-items: stretch;justify-content: center;background-color: white;position: relative;}#sk-container-id-6 div.sk-item::before, #sk-container-id-6 div.sk-parallel-item::before {content: \"\";position: absolute;border-left: 1px solid gray;box-sizing: border-box;top: 0;bottom: 0;left: 50%;z-index: -1;}#sk-container-id-6 div.sk-parallel-item {display: flex;flex-direction: column;z-index: 1;position: relative;background-color: white;}#sk-container-id-6 div.sk-parallel-item:first-child::after {align-self: flex-end;width: 50%;}#sk-container-id-6 div.sk-parallel-item:last-child::after {align-self: flex-start;width: 50%;}#sk-container-id-6 div.sk-parallel-item:only-child::after {width: 0;}#sk-container-id-6 div.sk-dashed-wrapped {border: 1px dashed gray;margin: 0 0.4em 0.5em 0.4em;box-sizing: border-box;padding-bottom: 0.4em;background-color: white;}#sk-container-id-6 div.sk-label label {font-family: monospace;font-weight: bold;display: inline-block;line-height: 1.2em;}#sk-container-id-6 div.sk-label-container {text-align: center;}#sk-container-id-6 div.sk-container {/* jupyter's `normalize.less` sets `[hidden] { display: none; }` but bootstrap.min.css set `[hidden] { display: none !important; }` so we also need the `!important` here to be able to override the default hidden behavior on the sphinx rendered scikit-learn.org. See: https://github.com/scikit-learn/scikit-learn/issues/21755 */display: inline-block !important;position: relative;}#sk-container-id-6 div.sk-text-repr-fallback {display: none;}</style><div id=\"sk-container-id-6\" class=\"sk-top-container\"><div class=\"sk-text-repr-fallback\"><pre>IsolationForest(contamination=0.01, random_state=42)</pre><b>In a Jupyter environment, please rerun this cell to show the HTML representation or trust the notebook. <br />On GitHub, the HTML representation is unable to render, please try loading this page with nbviewer.org.</b></div><div class=\"sk-container\" hidden><div class=\"sk-item\"><div class=\"sk-estimator sk-toggleable\"><input class=\"sk-toggleable__control sk-hidden--visually\" id=\"sk-estimator-id-6\" type=\"checkbox\" checked><label for=\"sk-estimator-id-6\" class=\"sk-toggleable__label sk-toggleable__label-arrow\">IsolationForest</label><div class=\"sk-toggleable__content\"><pre>IsolationForest(contamination=0.01, random_state=42)</pre></div></div></div></div></div>"
            ]
          },
          "metadata": {},
          "execution_count": 74
        }
      ],
      "source": [
        "# Step 8: Model Training and Anomaly Detection\n",
        "model = IsolationForest(contamination=best_contamination, random_state=42)\n",
        "model.fit(X_train)"
      ]
    },
    {
      "cell_type": "code",
      "execution_count": 75,
      "metadata": {
        "colab": {
          "base_uri": "https://localhost:8080/"
        },
        "id": "VeLe7m3jJMYV",
        "outputId": "06f7799d-bb87-4f03-cc86-ba90aa4f2d0c"
      },
      "outputs": [
        {
          "output_type": "stream",
          "name": "stdout",
          "text": [
            "Anomaly Detection Train Accuracy: 1.35%\n",
            "Anomaly Detection Test Accuracy: 5.26%\n"
          ]
        }
      ],
      "source": [
        "# Step 9: Predict and Evaluate Anomalies\n",
        "y_pred_train = model.predict(X_train)\n",
        "y_pred_test = model.predict(X_test)\n",
        "accuracy_train = np.mean(y_pred_train == -1)\n",
        "accuracy_test = np.mean(y_pred_test == -1)\n",
        "\n",
        "print(f\"Anomaly Detection Train Accuracy: {accuracy_train * 100:.2f}%\")\n",
        "print(f\"Anomaly Detection Test Accuracy: {accuracy_test * 100:.2f}%\")"
      ]
    },
    {
      "cell_type": "code",
      "execution_count": 79,
      "metadata": {
        "colab": {
          "base_uri": "https://localhost:8080/",
          "height": 472
        },
        "id": "T_JLz4r2JSTL",
        "outputId": "bbba898e-7c90-412b-dba8-827a3615f23f"
      },
      "outputs": [
        {
          "output_type": "display_data",
          "data": {
            "text/plain": [
              "<Figure size 640x480 with 2 Axes>"
            ],
            "image/png": "[encoded data removed]"
          },
          "metadata": {}
        }
      ],
      "source": [
        "# Step 10: Visualization\n",
        "plt.scatter(X_test[:, 0], X_test[:, 1], c=y_pred_test, cmap='coolwarm')\n",
        "plt.xlabel(selected_features[0])\n",
        "plt.ylabel(selected_features[1])\n",
        "plt.title(\"Anomaly Detection Results\")\n",
        "plt.colorbar()\n",
        "plt.show()\n"
      ]
    },
    {
      "cell_type": "markdown",
      "source": [
        "Iam  waiting for the  Real-Time dataset\n",
        " to proceed to the  the real time anomaly detection.\n",
        "\n"
      ],
      "metadata": {
        "id": "PSwPp_yH5l5-"
      }
    },
    {
      "cell_type": "code",
      "execution_count": null,
      "metadata": {
        "id": "FShpLqqeJb2K"
      },
      "outputs": [],
      "source": [
        "# Step 11: Real-Time Anomaly Detection (Assuming streaming data)\n",
        "new_data = pd.read_excel('new_data.xlsx')\n",
        "new_data = new_data.drop(['Seam number', 'start time (power source time)', 'Jobs'], axis=1)\n",
        "new_data = new_data.dropna()\n",
        "new_data = new_data.apply(pd.to_numeric, errors='coerce')\n",
        "new_data_selected = new_data[selected_features]\n",
        "new_data_scaled = scaler.transform(new_data_selected)\n",
        "new_data_pred = model.predict(new_data_scaled)\n",
        "anomalies = new_data[new_data_pred == -1]"
      ]
    },
    {
      "cell_type": "code",
      "execution_count": null,
      "metadata": {
        "id": "rbIjTNh4Jw_K"
      },
      "outputs": [],
      "source": [
        "if len(anomalies) > 0:\n",
        "    print(\"Anomalies detected in real-time data:\")\n",
        "    print(anomalies)\n",
        "else:\n",
        "    print(\"No anomalies detected in real-time data.\")"
      ]
    },
    {
      "cell_type": "code",
      "execution_count": null,
      "metadata": {
        "id": "d8r3AidhJ7pr"
      },
      "outputs": [],
      "source": [
        "print(model)\n"
      ]
    }
  ],
  "metadata": {
    "colab": {
      "provenance": []
    },
    "kernelspec": {
      "display_name": "Python 3",
      "name": "python3"
    },
    "language_info": {
      "name": "python"
    }
  },
  "nbformat": 4,
  "nbformat_minor": 0
}